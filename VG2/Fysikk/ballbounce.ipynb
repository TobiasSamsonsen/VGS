{
 "cells": [
  {
   "cell_type": "code",
   "execution_count": 1,
   "metadata": {},
   "outputs": [
    {
     "data": {
      "application/vnd.jupyter.widget-view+json": {
       "model_id": "eab12743abe2447db5aeeb947baa6258",
       "version_major": 2,
       "version_minor": 0
      },
      "text/plain": [
       "Canvas(height=400, width=600)"
      ]
     },
     "metadata": {},
     "output_type": "display_data"
    },
    {
     "ename": "KeyboardInterrupt",
     "evalue": "",
     "output_type": "error",
     "traceback": [
      "\u001b[1;31m---------------------------------------------------------------------------\u001b[0m",
      "\u001b[1;31mKeyboardInterrupt\u001b[0m                         Traceback (most recent call last)",
      "\u001b[1;32mc:\\Users\\Tobias Samsonsen\\Programming\\VGS\\VG2\\Fysikk\\ballbounce.ipynb Cell 1\u001b[0m line \u001b[0;36m<cell line: 20>\u001b[1;34m()\u001b[0m\n\u001b[0;32m     <a href='vscode-notebook-cell:/c%3A/Users/Tobias%20Samsonsen/Programming/VGS/VG2/Fysikk/ballbounce.ipynb#W0sZmlsZQ%3D%3D?line=33'>34</a>\u001b[0m     canvas\u001b[39m.\u001b[39mstroke_rect(\u001b[39m0\u001b[39m, \u001b[39m0\u001b[39m, width, height)\n\u001b[0;32m     <a href='vscode-notebook-cell:/c%3A/Users/Tobias%20Samsonsen/Programming/VGS/VG2/Fysikk/ballbounce.ipynb#W0sZmlsZQ%3D%3D?line=34'>35</a>\u001b[0m     canvas\u001b[39m.\u001b[39mfill_circle(x, y, radius)\n\u001b[1;32m---> <a href='vscode-notebook-cell:/c%3A/Users/Tobias%20Samsonsen/Programming/VGS/VG2/Fysikk/ballbounce.ipynb#W0sZmlsZQ%3D%3D?line=36'>37</a>\u001b[0m time\u001b[39m.\u001b[39;49msleep(\u001b[39m1\u001b[39;49m\u001b[39m/\u001b[39;49mfps)\n",
      "\u001b[1;31mKeyboardInterrupt\u001b[0m: "
     ]
    }
   ],
   "source": [
    "import time\n",
    "from ipycanvas import Canvas, hold_canvas\n",
    "\n",
    "width = 600\n",
    "height = 400\n",
    "radius = 10\n",
    "fps = 60\n",
    "\n",
    "canvas = Canvas(width=width, height=height)\n",
    "display(canvas)\n",
    "\n",
    "finished = False\n",
    "\n",
    "x = width/2\n",
    "y = height/2\n",
    "dx = 1\n",
    "dy = 1\n",
    "\n",
    "while not finished:\n",
    "    \n",
    "    if ((x+radius) >= width) or ((x-radius) <= 0):\n",
    "        dx *= -1.1\n",
    "    \n",
    "    if ((y+radius) >= height) or ((y-radius) <= 0):\n",
    "        dy *= -1.1\n",
    "    \n",
    "    x += dx\n",
    "    y += dy\n",
    "    \n",
    "    with hold_canvas(canvas):\n",
    "        canvas.clear()\n",
    "        \n",
    "        canvas.stroke_rect(0, 0, width, height)\n",
    "        canvas.fill_circle(x, y, radius)\n",
    "    \n",
    "    time.sleep(1/fps)"
   ]
  }
 ],
 "metadata": {
  "kernelspec": {
   "display_name": "Python 3",
   "language": "python",
   "name": "python3"
  },
  "language_info": {
   "codemirror_mode": {
    "name": "ipython",
    "version": 3
   },
   "file_extension": ".py",
   "mimetype": "text/x-python",
   "name": "python",
   "nbconvert_exporter": "python",
   "pygments_lexer": "ipython3",
   "version": "3.10.5"
  }
 },
 "nbformat": 4,
 "nbformat_minor": 2
}
