{
 "cells": [
  {
   "cell_type": "markdown",
   "metadata": {},
   "source": [
    "# Oppgaver 1.2.x"
   ]
  },
  {
   "cell_type": "markdown",
   "metadata": {},
   "source": [
    "#### Oppgave 1.2.1"
   ]
  },
  {
   "cell_type": "code",
   "execution_count": 4,
   "metadata": {},
   "outputs": [
    {
     "name": "stdout",
     "output_type": "stream",
     "text": [
      "absolute value: 21.0\n"
     ]
    }
   ],
   "source": [
    "num = float(input(\"Number: \"))\n",
    "\n",
    "if num > 0:\n",
    "    print(num)\n",
    "else:\n",
    "    print(f\"Absolute value: {num*-1}\")"
   ]
  },
  {
   "cell_type": "markdown",
   "metadata": {},
   "source": [
    "#### Oppgave 1.2.2"
   ]
  },
  {
   "cell_type": "code",
   "execution_count": 1,
   "metadata": {},
   "outputs": [
    {
     "name": "stdout",
     "output_type": "stream",
     "text": [
      "higher\n",
      "higher\n",
      "higher\n",
      "lower\n",
      "higher\n",
      "lower\n",
      "higher\n",
      "higher\n",
      "higher\n",
      "higher\n",
      "higher\n",
      "higher\n",
      "lower\n",
      "Correct\n"
     ]
    }
   ],
   "source": [
    "import random\n",
    "\n",
    "\n",
    "num = random.randint(1,1000)\n",
    "guessed = False\n",
    "while guessed == False:\n",
    "    guess = int(input(\"Guess: \"))\n",
    "    if num < guess:\n",
    "        print(\"lower\")\n",
    "    elif num > guess:\n",
    "        print(\"higher\")\n",
    "    else:\n",
    "        print(\"Correct\")\n",
    "        guessed = True"
   ]
  },
  {
   "cell_type": "markdown",
   "metadata": {},
   "source": [
    "#### Oppgave 1.2.3"
   ]
  },
  {
   "cell_type": "code",
   "execution_count": 3,
   "metadata": {},
   "outputs": [
    {
     "name": "stdout",
     "output_type": "stream",
     "text": [
      "22 is even\n"
     ]
    }
   ],
   "source": [
    "num = int(input(\"Number: \"))\n",
    "\n",
    "if num % 2 == 0:\n",
    "    print(f\"{num} is even\")\n",
    "else:\n",
    "    print(f\"{num} is odd\")"
   ]
  }
 ],
 "metadata": {
  "kernelspec": {
   "display_name": "Python 3",
   "language": "python",
   "name": "python3"
  },
  "language_info": {
   "codemirror_mode": {
    "name": "ipython",
    "version": 3
   },
   "file_extension": ".py",
   "mimetype": "text/x-python",
   "name": "python",
   "nbconvert_exporter": "python",
   "pygments_lexer": "ipython3",
   "version": "3.10.5"
  },
  "orig_nbformat": 4
 },
 "nbformat": 4,
 "nbformat_minor": 2
}
